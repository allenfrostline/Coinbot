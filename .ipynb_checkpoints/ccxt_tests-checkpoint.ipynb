{
 "cells": [
  {
   "cell_type": "markdown",
   "metadata": {},
   "source": [
    "## Import"
   ]
  },
  {
   "cell_type": "code",
   "execution_count": 153,
   "metadata": {
    "collapsed": true
   },
   "outputs": [],
   "source": [
    "import ccxt\n",
    "import numpy as np\n",
    "import pandas as pd\n",
    "from pytz import timezone\n",
    "from datetime import datetime"
   ]
  },
  {
   "cell_type": "markdown",
   "metadata": {},
   "source": [
    "## Miscellaneous"
   ]
  },
  {
   "cell_type": "code",
   "execution_count": 7,
   "metadata": {
    "collapsed": true
   },
   "outputs": [],
   "source": [
    "RED = '\\u001b[1m\\u001b[38;5;196m'\n",
    "GRAY = '\\u001b[1m\\u001b[38;5;240m'\n",
    "GREEN = '\\u001b[1m\\u001b[38;5;46m'\n",
    "YELLOW = '\\u001b[1m\\u001b[38;5;11m'\n",
    "CYAN = '\\u001b[1m\\u001b[38;5;51m'\n",
    "RESET = '\\u001b[0m'\n",
    "\n",
    "time = lambda: '[' + GREEN + datetime.now(timezone('Europe/Amsterdam')).strftime('%Y-%m-%d %H:%M:%S') + RESET + ']'"
   ]
  },
  {
   "cell_type": "markdown",
   "metadata": {},
   "source": [
    "## Register"
   ]
  },
  {
   "cell_type": "code",
   "execution_count": 204,
   "metadata": {
    "collapsed": true
   },
   "outputs": [],
   "source": [
    "exchange = ccxt.poloniex()\n",
    "exchange.apiKey = 'Y88KY4B1-ASMLC2C2-N0HO4J89-9I3PGNB4'\n",
    "exchange.secret = 'e97e79187579648c9be3801b4e126601fac097e22e347f13963c130519c4b7a1ffb93872a1d493ac94c2dd0c7f84cc103bf06add17547fd60cce75842c8649eb'\n",
    "exchange.load_markets ()\n",
    "exchange.enableRateLimit = True"
   ]
  },
  {
   "cell_type": "code",
   "execution_count": 172,
   "metadata": {},
   "outputs": [
    {
     "data": {
      "text/plain": [
       "1000"
      ]
     },
     "execution_count": 172,
     "metadata": {},
     "output_type": "execute_result"
    }
   ],
   "source": [
    "exchange.rateLimit = 1000\n",
    "exchange.rateLimit"
   ]
  },
  {
   "cell_type": "markdown",
   "metadata": {},
   "source": [
    "## All Pairs"
   ]
  },
  {
   "cell_type": "code",
   "execution_count": 173,
   "metadata": {},
   "outputs": [],
   "source": [
    "pairs = list(exchange.symbols)\n",
    "coins = set(pair.split('/')[0] for pair in pairs)"
   ]
  },
  {
   "cell_type": "code",
   "execution_count": 178,
   "metadata": {
    "collapsed": true
   },
   "outputs": [],
   "source": [
    "symbol = 'BTC/USDT'"
   ]
  },
  {
   "cell_type": "markdown",
   "metadata": {},
   "source": [
    "## Tickers"
   ]
  },
  {
   "cell_type": "code",
   "execution_count": 176,
   "metadata": {},
   "outputs": [
    {
     "data": {
      "text/plain": [
       "[('BCN/BTC', 908485823.176483),\n",
       " ('BELA/BTC', 1736838.25469511),\n",
       " ('BLK/BTC', 1765622.59741136),\n",
       " ('BTCD/BTC', 1688.46138303),\n",
       " ('Bitmark/BTC', 73159.7289167),\n",
       " ('BTS/BTC', 35208366.49636475),\n",
       " ('BURST/BTC', 46791792.48199143),\n",
       " ('CLAM/BTC', 89556.82501131),\n",
       " ('DASH/BTC', 27958.49078986),\n",
       " ('DGB/BTC', 768530729.7781521)]"
      ]
     },
     "execution_count": 176,
     "metadata": {},
     "output_type": "execute_result"
    }
   ],
   "source": [
    "temp = exchange.fetch_tickers()\n",
    "v = [(t, temp[t]['baseVolume']) for t in temp]\n",
    "v[:10]"
   ]
  },
  {
   "cell_type": "code",
   "execution_count": 179,
   "metadata": {
    "scrolled": false
   },
   "outputs": [
    {
     "data": {
      "text/plain": [
       "{'ask': 16543.39696232,\n",
       " 'average': None,\n",
       " 'baseVolume': 13845.09765099,\n",
       " 'bid': 16500.00000024,\n",
       " 'change': -0.11841831,\n",
       " 'close': None,\n",
       " 'datetime': '2017-12-20T02:52:58.875Z',\n",
       " 'first': None,\n",
       " 'high': 18971.91794828,\n",
       " 'info': {'baseVolume': '239896029.04252300',\n",
       "  'high24hr': '18971.91794828',\n",
       "  'highestBid': '16500.00000024',\n",
       "  'id': 121,\n",
       "  'isFrozen': '0',\n",
       "  'last': '16500.00000021',\n",
       "  'low24hr': '15550.00000008',\n",
       "  'lowestAsk': '16543.39696232',\n",
       "  'percentChange': '-0.11841831',\n",
       "  'quoteVolume': '13845.09765099'},\n",
       " 'last': 16500.00000021,\n",
       " 'low': 15550.00000008,\n",
       " 'open': None,\n",
       " 'percentage': None,\n",
       " 'quoteVolume': 239896029.042523,\n",
       " 'symbol': 'BTC/USDT',\n",
       " 'timestamp': 1513738377875,\n",
       " 'vwap': None}"
      ]
     },
     "execution_count": 179,
     "metadata": {},
     "output_type": "execute_result"
    }
   ],
   "source": [
    "exchange.fetch_ticker(symbol)\n",
    "# exchange.fetch_tickers()['BTC/USDT']  # not suggested"
   ]
  },
  {
   "cell_type": "markdown",
   "metadata": {},
   "source": [
    "## Order Books"
   ]
  },
  {
   "cell_type": "code",
   "execution_count": 180,
   "metadata": {
    "scrolled": false
   },
   "outputs": [
    {
     "name": "stdout",
     "output_type": "stream",
     "text": [
      "[\u001b[1m\u001b[38;5;46m2017-12-20 03:53:04\u001b[0m] bids\n",
      "[\u001b[1m\u001b[38;5;46m2017-12-20 03:53:04\u001b[0m] [16500.00000011, 0.70409101]\n",
      "[\u001b[1m\u001b[38;5;46m2017-12-20 03:53:04\u001b[0m] [16500.0, 0.08346062]\n",
      "[\u001b[1m\u001b[38;5;46m2017-12-20 03:53:04\u001b[0m] [16480.0, 0.53918956]\n",
      "[\u001b[1m\u001b[38;5;46m2017-12-20 03:53:04\u001b[0m] [16479.9999998, 0.01274272]\n",
      "[\u001b[1m\u001b[38;5;46m2017-12-20 03:53:04\u001b[0m] [16478.99999997, 0.13415845]\n",
      "[\u001b[1m\u001b[38;5;46m2017-12-20 03:53:04\u001b[0m] [16464.7718603, 0.00020545]\n",
      "[\u001b[1m\u001b[38;5;46m2017-12-20 03:53:04\u001b[0m] [16462.53746248, 0.0008483]\n",
      "[\u001b[1m\u001b[38;5;46m2017-12-20 03:53:04\u001b[0m] [16450.00000006, 0.00834044]\n",
      "[\u001b[1m\u001b[38;5;46m2017-12-20 03:53:04\u001b[0m] [16450.0, 0.31313069]\n",
      "[\u001b[1m\u001b[38;5;46m2017-12-20 03:53:04\u001b[0m] [16446.01579925, 0.03657203]\n",
      "[\u001b[1m\u001b[38;5;46m2017-12-20 03:53:04\u001b[0m] [16445.00000006, 0.47189653]\n",
      "[\u001b[1m\u001b[38;5;46m2017-12-20 03:53:04\u001b[0m] [16445.0, 0.23157603]\n",
      "[\u001b[1m\u001b[38;5;46m2017-12-20 03:53:04\u001b[0m] [16443.8266621, 0.00020572]\n",
      "[\u001b[1m\u001b[38;5;46m2017-12-20 03:53:04\u001b[0m] [16440.0, 0.25]\n",
      "[\u001b[1m\u001b[38;5;46m2017-12-20 03:53:04\u001b[0m] [16439.9999999, 0.2]\n",
      "[\u001b[1m\u001b[38;5;46m2017-12-20 03:53:04\u001b[0m] [16434.0, 0.00056469]\n",
      "[\u001b[1m\u001b[38;5;46m2017-12-20 03:53:04\u001b[0m] [16430.0, 0.06086427]\n",
      "[\u001b[1m\u001b[38;5;46m2017-12-20 03:53:04\u001b[0m] [16421.4737749, 0.000206]\n",
      "[\u001b[1m\u001b[38;5;46m2017-12-20 03:53:04\u001b[0m] [16410.9128647, 0.00020613]\n",
      "[\u001b[1m\u001b[38;5;46m2017-12-20 03:53:04\u001b[0m] [16408.99999994, 0.00889756]\n",
      "[\u001b[1m\u001b[38;5;46m2017-12-20 03:53:04\u001b[0m] [16404.909905, 0.0002062]\n",
      "[\u001b[1m\u001b[38;5;46m2017-12-20 03:53:04\u001b[0m] [16404.9, 0.00900572]\n",
      "[\u001b[1m\u001b[38;5;46m2017-12-20 03:53:04\u001b[0m] [16404.35000001, 1.17043]\n",
      "[\u001b[1m\u001b[38;5;46m2017-12-20 03:53:04\u001b[0m] [16401.83067718, 5.752e-05]\n",
      "[\u001b[1m\u001b[38;5;46m2017-12-20 03:53:04\u001b[0m] [16401.83067717, 6.081e-05]\n",
      "[\u001b[1m\u001b[38;5;46m2017-12-20 03:53:04\u001b[0m] [16400.0, 0.12195122]\n",
      "[\u001b[1m\u001b[38;5;46m2017-12-20 03:53:04\u001b[0m] [16393.04895272, 0.000122]\n",
      "[\u001b[1m\u001b[38;5;46m2017-12-20 03:53:04\u001b[0m] [16387.96, 0.001]\n",
      "[\u001b[1m\u001b[38;5;46m2017-12-20 03:53:04\u001b[0m] [16385.44523194, 6.087e-05]\n",
      "[\u001b[1m\u001b[38;5;46m2017-12-20 03:53:04\u001b[0m] [16383.04895272, 0.00012208]\n",
      "[\u001b[1m\u001b[38;5;46m2017-12-20 03:53:04\u001b[0m] [16378.337844, 0.01337844]\n",
      "[\u001b[1m\u001b[38;5;46m2017-12-20 03:53:04\u001b[0m] [16374.2399999, 0.006162]\n",
      "[\u001b[1m\u001b[38;5;46m2017-12-20 03:53:04\u001b[0m] [16373.04895272, 0.00012215]\n",
      "[\u001b[1m\u001b[38;5;46m2017-12-20 03:53:04\u001b[0m] [16369.52, 0.01038515]\n",
      "[\u001b[1m\u001b[38;5;46m2017-12-20 03:53:04\u001b[0m] [16369.07615579, 6.093e-05]\n",
      "[\u001b[1m\u001b[38;5;46m2017-12-20 03:53:04\u001b[0m] [16368.98976119, 0.00182365]\n",
      "[\u001b[1m\u001b[38;5;46m2017-12-20 03:53:04\u001b[0m] [16363.04895272, 0.00012223]\n",
      "[\u001b[1m\u001b[38;5;46m2017-12-20 03:53:04\u001b[0m] [16357.77690985, 0.12073555]\n",
      "[\u001b[1m\u001b[38;5;46m2017-12-20 03:53:04\u001b[0m] [16353.04895272, 0.0001223]\n",
      "[\u001b[1m\u001b[38;5;46m2017-12-20 03:53:04\u001b[0m] [16352.72343235, 6.099e-05]\n",
      "[\u001b[1m\u001b[38;5;46m2017-12-20 03:53:04\u001b[0m] [16350.0, 0.05108898]\n",
      "[\u001b[1m\u001b[38;5;46m2017-12-20 03:53:04\u001b[0m] [16343.04895272, 0.00012238]\n",
      "[\u001b[1m\u001b[38;5;46m2017-12-20 03:53:04\u001b[0m] [16336.38704531, 6.106e-05]\n",
      "[\u001b[1m\u001b[38;5;46m2017-12-20 03:53:04\u001b[0m] [16336.25178167, 0.00188212]\n",
      "[\u001b[1m\u001b[38;5;46m2017-12-20 03:53:04\u001b[0m] [16334.5850299, 0.00020709]\n",
      "[\u001b[1m\u001b[38;5;46m2017-12-20 03:53:04\u001b[0m] [16333.04895272, 0.00012245]\n",
      "[\u001b[1m\u001b[38;5;46m2017-12-20 03:53:04\u001b[0m] [16328.78312252, 0.01155509]\n",
      "[\u001b[1m\u001b[38;5;46m2017-12-20 03:53:04\u001b[0m] [16323.04895272, 0.00012253]\n",
      "[\u001b[1m\u001b[38;5;46m2017-12-20 03:53:04\u001b[0m] [16320.06697833, 6.112e-05]\n",
      "[\u001b[1m\u001b[38;5;46m2017-12-20 03:53:04\u001b[0m] [16313.04895272, 0.0001226]\n",
      "[\u001b[1m\u001b[38;5;46m2017-12-20 03:53:04\u001b[0m] asks\n",
      "[\u001b[1m\u001b[38;5;46m2017-12-20 03:53:04\u001b[0m] [16543.39696231, 0.00383914]\n",
      "[\u001b[1m\u001b[38;5;46m2017-12-20 03:53:04\u001b[0m] [16543.39696232, 0.68365535]\n",
      "[\u001b[1m\u001b[38;5;46m2017-12-20 03:53:04\u001b[0m] [16543.39696233, 0.06044708]\n",
      "[\u001b[1m\u001b[38;5;46m2017-12-20 03:53:04\u001b[0m] [16552.04895269, 0.0117638]\n",
      "[\u001b[1m\u001b[38;5;46m2017-12-20 03:53:04\u001b[0m] [16552.04895272, 0.00012193]\n",
      "[\u001b[1m\u001b[38;5;46m2017-12-20 03:53:04\u001b[0m] [16556.97549124, 0.0105991]\n",
      "[\u001b[1m\u001b[38;5;46m2017-12-20 03:53:04\u001b[0m] [16559.6995072, 0.00073143]\n",
      "[\u001b[1m\u001b[38;5;46m2017-12-20 03:53:04\u001b[0m] [16562.04895272, 0.00012185]\n",
      "[\u001b[1m\u001b[38;5;46m2017-12-20 03:53:04\u001b[0m] [16565.41544916, 0.00972541]\n",
      "[\u001b[1m\u001b[38;5;46m2017-12-20 03:53:04\u001b[0m] [16566.58903799, 6.036e-05]\n",
      "[\u001b[1m\u001b[38;5;46m2017-12-20 03:53:04\u001b[0m] [16572.04895272, 0.00012178]\n",
      "[\u001b[1m\u001b[38;5;46m2017-12-20 03:53:04\u001b[0m] [16581.89822015, 0.00673988]\n",
      "[\u001b[1m\u001b[38;5;46m2017-12-20 03:53:04\u001b[0m] [16582.04895272, 0.00012171]\n",
      "[\u001b[1m\u001b[38;5;46m2017-12-20 03:53:04\u001b[0m] [16583.15562703, 6.03e-05]\n",
      "[\u001b[1m\u001b[38;5;46m2017-12-20 03:53:04\u001b[0m] [16583.82123362, 0.00010705]\n",
      "[\u001b[1m\u001b[38;5;46m2017-12-20 03:53:04\u001b[0m] [16586.3281301, 0.00020482]\n",
      "[\u001b[1m\u001b[38;5;46m2017-12-20 03:53:04\u001b[0m] [16590.22023224, 0.04187932]\n",
      "[\u001b[1m\u001b[38;5;46m2017-12-20 03:53:04\u001b[0m] [16592.04895272, 0.00012163]\n",
      "[\u001b[1m\u001b[38;5;46m2017-12-20 03:53:04\u001b[0m] [16599.73878266, 6.024e-05]\n",
      "[\u001b[1m\u001b[38;5;46m2017-12-20 03:53:04\u001b[0m] [16600.0, 0.04833501]\n",
      "[\u001b[1m\u001b[38;5;46m2017-12-20 03:53:04\u001b[0m] [16600.00000001, 0.00063684]\n",
      "[\u001b[1m\u001b[38;5;46m2017-12-20 03:53:04\u001b[0m] [16600.01, 0.01]\n",
      "[\u001b[1m\u001b[38;5;46m2017-12-20 03:53:04\u001b[0m] [16602.04895272, 0.00012156]\n",
      "[\u001b[1m\u001b[38;5;46m2017-12-20 03:53:04\u001b[0m] [16603.05965857, 0.0004]\n",
      "[\u001b[1m\u001b[38;5;46m2017-12-20 03:53:04\u001b[0m] [16604.99999996, 3.078e-05]\n",
      "[\u001b[1m\u001b[38;5;46m2017-12-20 03:53:04\u001b[0m] [16605.0, 0.11535216]\n",
      "[\u001b[1m\u001b[38;5;46m2017-12-20 03:53:04\u001b[0m] [16607.1118002, 0.00135586]\n",
      "[\u001b[1m\u001b[38;5;46m2017-12-20 03:53:04\u001b[0m] [16612.04895272, 0.00012148]\n",
      "[\u001b[1m\u001b[38;5;46m2017-12-20 03:53:04\u001b[0m] [16615.46462, 0.00020446]\n",
      "[\u001b[1m\u001b[38;5;46m2017-12-20 03:53:04\u001b[0m] [16616.33852144, 6.018e-05]\n",
      "[\u001b[1m\u001b[38;5;46m2017-12-20 03:53:04\u001b[0m] [16619.91333653, 0.03798155]\n",
      "[\u001b[1m\u001b[38;5;46m2017-12-20 03:53:04\u001b[0m] [16621.3748644, 0.00090719]\n",
      "[\u001b[1m\u001b[38;5;46m2017-12-20 03:53:04\u001b[0m] [16621.68628827, 0.00979711]\n",
      "[\u001b[1m\u001b[38;5;46m2017-12-20 03:53:04\u001b[0m] [16622.04895272, 0.00012141]\n",
      "[\u001b[1m\u001b[38;5;46m2017-12-20 03:53:04\u001b[0m] [16628.17431254, 0.04218108]\n",
      "[\u001b[1m\u001b[38;5;46m2017-12-20 03:53:04\u001b[0m] [16630.99999997, 0.15334702]\n",
      "[\u001b[1m\u001b[38;5;46m2017-12-20 03:53:04\u001b[0m] [16632.04895272, 0.00012134]\n",
      "[\u001b[1m\u001b[38;5;46m2017-12-20 03:53:04\u001b[0m] [16632.95485996, 6.012e-05]\n",
      "[\u001b[1m\u001b[38;5;46m2017-12-20 03:53:04\u001b[0m] [16635.5074, 0.00020422]\n",
      "[\u001b[1m\u001b[38;5;46m2017-12-20 03:53:04\u001b[0m] [16640.518095, 0.00020416]\n",
      "[\u001b[1m\u001b[38;5;46m2017-12-20 03:53:04\u001b[0m] [16642.04895272, 0.00012126]\n",
      "[\u001b[1m\u001b[38;5;46m2017-12-20 03:53:04\u001b[0m] [16643.47817552, 0.0001124]\n",
      "[\u001b[1m\u001b[38;5;46m2017-12-20 03:53:04\u001b[0m] [16644.85448764, 0.00012124]\n",
      "[\u001b[1m\u001b[38;5;46m2017-12-20 03:53:04\u001b[0m] [16647.26999999, 4.17451633]\n",
      "[\u001b[1m\u001b[38;5;46m2017-12-20 03:53:04\u001b[0m] [16649.58781482, 6.006e-05]\n",
      "[\u001b[1m\u001b[38;5;46m2017-12-20 03:53:04\u001b[0m] [16649.99999997, 0.01]\n",
      "[\u001b[1m\u001b[38;5;46m2017-12-20 03:53:04\u001b[0m] [16650.0, 0.05007833]\n",
      "[\u001b[1m\u001b[38;5;46m2017-12-20 03:53:04\u001b[0m] [16650.00000011, 0.08487231]\n",
      "[\u001b[1m\u001b[38;5;46m2017-12-20 03:53:04\u001b[0m] [16650.8401267, 0.00020403]\n",
      "[\u001b[1m\u001b[38;5;46m2017-12-20 03:53:04\u001b[0m] [16652.0507736, 0.00071118]\n",
      "[\u001b[1m\u001b[38;5;46m2017-12-20 03:53:04\u001b[0m] timestamp\n",
      "[\u001b[1m\u001b[38;5;46m2017-12-20 03:53:04\u001b[0m] 1513738384289\n",
      "[\u001b[1m\u001b[38;5;46m2017-12-20 03:53:04\u001b[0m] datetime\n",
      "[\u001b[1m\u001b[38;5;46m2017-12-20 03:53:04\u001b[0m] 2017-12-20T02:53:04.289Z\n"
     ]
    }
   ],
   "source": [
    "order_book = exchange.fetch_order_book(symbol)\n",
    "for ob in order_book:\n",
    "    print('{} {}'.format(time(), ob))\n",
    "    if ob in ['bids', 'asks']:\n",
    "        for i in order_book[ob]:\n",
    "            print('{} {}'.format(time(), i))\n",
    "        continue\n",
    "    print('{} {}'.format(time(), order_book[ob]))"
   ]
  },
  {
   "cell_type": "markdown",
   "metadata": {},
   "source": [
    "## OCHLV Data"
   ]
  },
  {
   "cell_type": "markdown",
   "metadata": {},
   "source": [
    "Format as below:\n",
    "```\n",
    "[\n",
    "    [\n",
    "        1504541580000, // UTC timestamp in milliseconds\n",
    "        4235.4,        // (O)pen price\n",
    "        4240.6,        // (H)ighest price\n",
    "        4230.0,        // (L)owest price\n",
    "        4230.7,        // (C)losing price\n",
    "        37.72941911    // (V)olume\n",
    "    ],\n",
    "    ...\n",
    "]\n",
    "```"
   ]
  },
  {
   "cell_type": "code",
   "execution_count": 181,
   "metadata": {
    "scrolled": false
   },
   "outputs": [
    {
     "data": {
      "text/html": [
       "<div>\n",
       "<table border=\"1\" class=\"dataframe\">\n",
       "  <thead>\n",
       "    <tr style=\"text-align: right;\">\n",
       "      <th></th>\n",
       "      <th>open</th>\n",
       "      <th>high</th>\n",
       "      <th>low</th>\n",
       "      <th>close</th>\n",
       "      <th>volume</th>\n",
       "    </tr>\n",
       "    <tr>\n",
       "      <th>time</th>\n",
       "      <th></th>\n",
       "      <th></th>\n",
       "      <th></th>\n",
       "      <th></th>\n",
       "      <th></th>\n",
       "    </tr>\n",
       "  </thead>\n",
       "  <tbody>\n",
       "    <tr>\n",
       "      <th>2015-02-19 01:00:00</th>\n",
       "      <td>0.330000</td>\n",
       "      <td>0.330</td>\n",
       "      <td>225.00</td>\n",
       "      <td>244.00</td>\n",
       "      <td>46.276313</td>\n",
       "    </tr>\n",
       "    <tr>\n",
       "      <th>2015-02-20 01:00:00</th>\n",
       "      <td>240.250118</td>\n",
       "      <td>245.000</td>\n",
       "      <td>240.25</td>\n",
       "      <td>240.25</td>\n",
       "      <td>55.894897</td>\n",
       "    </tr>\n",
       "    <tr>\n",
       "      <th>2015-02-21 01:00:00</th>\n",
       "      <td>245.000000</td>\n",
       "      <td>245.000</td>\n",
       "      <td>245.00</td>\n",
       "      <td>245.00</td>\n",
       "      <td>14.722239</td>\n",
       "    </tr>\n",
       "    <tr>\n",
       "      <th>2015-02-22 01:00:00</th>\n",
       "      <td>245.000000</td>\n",
       "      <td>249.000</td>\n",
       "      <td>235.00</td>\n",
       "      <td>235.00</td>\n",
       "      <td>129.121248</td>\n",
       "    </tr>\n",
       "    <tr>\n",
       "      <th>2015-02-23 01:00:00</th>\n",
       "      <td>235.000002</td>\n",
       "      <td>235.001</td>\n",
       "      <td>235.00</td>\n",
       "      <td>235.00</td>\n",
       "      <td>96.567562</td>\n",
       "    </tr>\n",
       "  </tbody>\n",
       "</table>\n",
       "</div>"
      ],
      "text/plain": [
       "                           open     high     low   close      volume\n",
       "time                                                                \n",
       "2015-02-19 01:00:00    0.330000    0.330  225.00  244.00   46.276313\n",
       "2015-02-20 01:00:00  240.250118  245.000  240.25  240.25   55.894897\n",
       "2015-02-21 01:00:00  245.000000  245.000  245.00  245.00   14.722239\n",
       "2015-02-22 01:00:00  245.000000  249.000  235.00  235.00  129.121248\n",
       "2015-02-23 01:00:00  235.000002  235.001  235.00  235.00   96.567562"
      ]
     },
     "execution_count": 181,
     "metadata": {},
     "output_type": "execute_result"
    }
   ],
   "source": [
    "df = pd.DataFrame(exchange.fetch_ohlcv(symbol, '1d'), columns=['time', 'open', 'high', 'low', 'close', 'volume'])\n",
    "df.time = df.time.apply(lambda x: datetime.fromtimestamp(x/1000).strftime('%Y-%m-%d %H:%M:%S'))\n",
    "df = df.set_index('time')\n",
    "df.head()"
   ]
  },
  {
   "cell_type": "markdown",
   "metadata": {},
   "source": [
    "## Balances"
   ]
  },
  {
   "cell_type": "code",
   "execution_count": 182,
   "metadata": {
    "scrolled": false
   },
   "outputs": [
    {
     "data": {
      "text/plain": [
       "{'BCH': 2.968e-05,\n",
       " 'BLK': 0.07283513,\n",
       " 'BTC': 5.69e-06,\n",
       " 'CVC': 1.38025015,\n",
       " 'DASH': 0.00011444,\n",
       " 'ETC': 0.00319706,\n",
       " 'ETH': 0.00012825,\n",
       " 'GAS': 0.02286864,\n",
       " 'GNO': 0.00030257,\n",
       " 'GNT': 0.27630823,\n",
       " 'LSK': 0.00706307,\n",
       " 'LTC': 0.00039016,\n",
       " 'MAID': 0.15630676,\n",
       " 'NXT': 1.78742,\n",
       " 'OMG': 0.02032775,\n",
       " 'REP': 0.00111677,\n",
       " 'STEEM': 0.2255384,\n",
       " 'STR': 0.39852233,\n",
       " 'USDT': 38.47432874,\n",
       " 'XMR': 0.00040302,\n",
       " 'XRP': 0.15774399,\n",
       " 'ZEC': 0.00022112,\n",
       " 'ZRX': 0.14084736}"
      ]
     },
     "execution_count": 182,
     "metadata": {},
     "output_type": "execute_result"
    }
   ],
   "source": [
    "balances = exchange.fetch_balance()['total']\n",
    "balances = {c: balances[c] for c in balances if balances[c]}\n",
    "balances"
   ]
  },
  {
   "cell_type": "markdown",
   "metadata": {},
   "source": [
    "## Orders"
   ]
  },
  {
   "cell_type": "code",
   "execution_count": 185,
   "metadata": {
    "scrolled": true
   },
   "outputs": [
    {
     "data": {
      "text/plain": [
       "True"
      ]
     },
     "execution_count": 185,
     "metadata": {},
     "output_type": "execute_result"
    }
   ],
   "source": [
    "symbol2 = 'CVC/BTC'\n",
    "symbol2 in exchange.symbols"
   ]
  },
  {
   "cell_type": "markdown",
   "metadata": {},
   "source": [
    "**Market Order**\n",
    "\n",
    "A sad news is..."
   ]
  },
  {
   "cell_type": "code",
   "execution_count": 186,
   "metadata": {
    "scrolled": false
   },
   "outputs": [
    {
     "name": "stdout",
     "output_type": "stream",
     "text": [
      "\u001b[1m\u001b[38;5;196mpoloniex allows limit orders only!\n"
     ]
    }
   ],
   "source": [
    "try:\n",
    "    exchange.create_market_buy_order(symbol2, balances[symbol2.split('/')[0]])\n",
    "except Exception as e:\n",
    "    print(RED + str(e) + '!')"
   ]
  },
  {
   "cell_type": "markdown",
   "metadata": {},
   "source": [
    "**Limit Order**"
   ]
  },
  {
   "cell_type": "code",
   "execution_count": 202,
   "metadata": {
    "collapsed": true
   },
   "outputs": [],
   "source": [
    "from poloniex import Poloniex"
   ]
  },
  {
   "cell_type": "code",
   "execution_count": 206,
   "metadata": {},
   "outputs": [],
   "source": [
    "agent = Poloniex(apiKey, secret)"
   ]
  },
  {
   "cell_type": "code",
   "execution_count": 280,
   "metadata": {
    "scrolled": false
   },
   "outputs": [
    {
     "data": {
      "text/plain": [
       "(3.214e-05, 3.2226794069999993e-05, 3.196e-05, 3.187372398e-05)"
      ]
     },
     "execution_count": 280,
     "metadata": {},
     "output_type": "execute_result"
    }
   ],
   "source": [
    "agent.returnTicker()['BTC_CVC']['lowestAsk'], agent.returnTicker()['BTC_CVC']['lowestAsk'] * 1.0025 * 1.0002, agent.returnTicker()['BTC_CVC']['highestBid'], agent.returnTicker()['BTC_CVC']['highestBid'] * (1-.0025) * (1-.0002)"
   ]
  },
  {
   "cell_type": "code",
   "execution_count": 282,
   "metadata": {
    "scrolled": true
   },
   "outputs": [
    {
     "data": {
      "text/plain": [
       "([3.214e-05, 684.4], [3.196e-05, 92.07725857])"
      ]
     },
     "execution_count": 282,
     "metadata": {},
     "output_type": "execute_result"
    }
   ],
   "source": [
    "exchange.fetch_order_book(symbol2)['asks'][0], exchange.fetch_order_book(symbol2)['bids'][0]"
   ]
  },
  {
   "cell_type": "code",
   "execution_count": 225,
   "metadata": {},
   "outputs": [
    {
     "data": {
      "text/plain": [
       "3713.606654783125"
      ]
     },
     "execution_count": 225,
     "metadata": {},
     "output_type": "execute_result"
    }
   ],
   "source": [
    "2000 / 17000 / 3.168e-5"
   ]
  },
  {
   "cell_type": "code",
   "execution_count": 227,
   "metadata": {},
   "outputs": [
    {
     "data": {
      "text/plain": [
       "1.38025015"
      ]
     },
     "execution_count": 227,
     "metadata": {},
     "output_type": "execute_result"
    }
   ],
   "source": [
    "balances[symbol2.split('/')[0]]"
   ]
  },
  {
   "cell_type": "code",
   "execution_count": 201,
   "metadata": {},
   "outputs": [
    {
     "ename": "TypeError",
     "evalue": "create_order() missing 2 required positional arguments: 'type' and 'side'",
     "output_type": "error",
     "traceback": [
      "\u001b[0;31m---------------------------------------------------------------------------\u001b[0m",
      "\u001b[0;31mTypeError\u001b[0m                                 Traceback (most recent call last)",
      "\u001b[0;32m<ipython-input-201-96b4a9fae29b>\u001b[0m in \u001b[0;36m<module>\u001b[0;34m()\u001b[0m\n\u001b[0;32m----> 1\u001b[0;31m \u001b[0mexchange\u001b[0m\u001b[0;34m.\u001b[0m\u001b[0mcreate_order\u001b[0m\u001b[0;34m(\u001b[0m\u001b[0msymbol2\u001b[0m\u001b[0;34m,\u001b[0m \u001b[0mamount\u001b[0m\u001b[0;34m=\u001b[0m\u001b[0mbalances\u001b[0m\u001b[0;34m[\u001b[0m\u001b[0msymbol2\u001b[0m\u001b[0;34m.\u001b[0m\u001b[0msplit\u001b[0m\u001b[0;34m(\u001b[0m\u001b[0;34m'/'\u001b[0m\u001b[0;34m)\u001b[0m\u001b[0;34m[\u001b[0m\u001b[0;36m0\u001b[0m\u001b[0;34m]\u001b[0m\u001b[0;34m]\u001b[0m\u001b[0;34m,\u001b[0m \u001b[0mprice\u001b[0m\u001b[0;34m=\u001b[0m\u001b[0mexchange\u001b[0m\u001b[0;34m.\u001b[0m\u001b[0mfetch_order_book\u001b[0m\u001b[0;34m(\u001b[0m\u001b[0msymbol2\u001b[0m\u001b[0;34m)\u001b[0m\u001b[0;34m[\u001b[0m\u001b[0;34m'bids'\u001b[0m\u001b[0;34m]\u001b[0m\u001b[0;34m[\u001b[0m\u001b[0;36m0\u001b[0m\u001b[0;34m]\u001b[0m\u001b[0;34m[\u001b[0m\u001b[0;36m0\u001b[0m\u001b[0;34m]\u001b[0m \u001b[0;34m*\u001b[0m \u001b[0;34m(\u001b[0m\u001b[0;36m1\u001b[0m \u001b[0;34m-\u001b[0m \u001b[0;36m0.0025\u001b[0m\u001b[0;34m)\u001b[0m\u001b[0;34m)\u001b[0m\u001b[0;34m\u001b[0m\u001b[0m\n\u001b[0m\u001b[1;32m      2\u001b[0m \u001b[0;31m# exchange.create_limit_sell_order('', amount)\u001b[0m\u001b[0;34m\u001b[0m\u001b[0;34m\u001b[0m\u001b[0m\n",
      "\u001b[0;31mTypeError\u001b[0m: create_order() missing 2 required positional arguments: 'type' and 'side'"
     ]
    }
   ],
   "source": [
    "exchange.create_order(symbol2, amount=balances[symbol2.split('/')[0]], price=exchange.fetch_order_book(symbol2)['bids'][0][0] * (1 - 0.0025))\n",
    "# exchange.create_limit_sell_order('', amount)"
   ]
  },
  {
   "cell_type": "markdown",
   "metadata": {},
   "source": [
    "**Cancel An Order**"
   ]
  },
  {
   "cell_type": "code",
   "execution_count": null,
   "metadata": {
    "collapsed": true
   },
   "outputs": [],
   "source": [
    "exchange.cancel_order ('order_id')"
   ]
  },
  {
   "cell_type": "markdown",
   "metadata": {},
   "source": [
    "## Withdraw"
   ]
  },
  {
   "cell_type": "code",
   "execution_count": null,
   "metadata": {
    "collapsed": true
   },
   "outputs": [],
   "source": [
    "exchange.withdraw(currency, amount, address)"
   ]
  },
  {
   "cell_type": "code",
   "execution_count": null,
   "metadata": {
    "collapsed": true
   },
   "outputs": [],
   "source": []
  },
  {
   "cell_type": "code",
   "execution_count": null,
   "metadata": {
    "collapsed": true
   },
   "outputs": [],
   "source": []
  },
  {
   "cell_type": "code",
   "execution_count": null,
   "metadata": {
    "collapsed": true
   },
   "outputs": [],
   "source": []
  }
 ],
 "metadata": {
  "kernelspec": {
   "display_name": "Python 3",
   "language": "python",
   "name": "python3"
  },
  "language_info": {
   "codemirror_mode": {
    "name": "ipython",
    "version": 3
   },
   "file_extension": ".py",
   "mimetype": "text/x-python",
   "name": "python",
   "nbconvert_exporter": "python",
   "pygments_lexer": "ipython3",
   "version": "3.6.3"
  }
 },
 "nbformat": 4,
 "nbformat_minor": 2
}
